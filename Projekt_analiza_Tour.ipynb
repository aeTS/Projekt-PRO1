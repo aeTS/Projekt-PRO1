{
 "cells": [
  {
   "cell_type": "code",
   "execution_count": 1,
   "metadata": {
    "collapsed": true
   },
   "outputs": [],
   "source": [
    "import pandas as pd"
   ]
  },
  {
   "cell_type": "markdown",
   "metadata": {},
   "source": [
    "# Tour de France v zadnjih 5 letih"
   ]
  },
  {
   "cell_type": "code",
   "execution_count": 15,
   "metadata": {
    "collapsed": false
   },
   "outputs": [],
   "source": [
    "r2012 = pd.read_csv('Tour-rumena majica\\\\2012_0.csv')\n",
    "r2013 = pd.read_csv('Tour-rumena majica\\\\2013_0.csv')\n",
    "r2014 = pd.read_csv('Tour-rumena majica\\\\2014_0.csv')\n",
    "r2015 = pd.read_csv('Tour-rumena majica\\\\2015_0.csv')\n",
    "r2016 = pd.read_csv('Tour-rumena majica\\\\2016_0.csv')"
   ]
  },
  {
   "cell_type": "markdown",
   "metadata": {},
   "source": [
    "OPOMBE:\n",
    "\n",
    "a) Določene ekipe so se v preteklih 5 letih večkrat preimenovale\n",
    "(npr. \"Saxo Bank–Tinkoff Bank\" ~> \"Saxo-Tinkoff\" ~> \"Tinkoff-Saxo\" ~> \"Tinkoff\")\n",
    "in sočasno spremenile sestavo(ali pa tudi ne). Da bi se izognila \n",
    "zapletom (v kolikšni meri je \"nova\" ekipa lahko smatrana kot \n",
    "ekvivalentna \"stari\"), obravnavam vse ekipe z različnim imenom\n",
    "kot samostojne (tj. v zgornjem primeru imamo 4 različne ekipe)."
   ]
  },
  {
   "cell_type": "markdown",
   "metadata": {},
   "source": [
    "## 1) Končni nosilci rumene majice in zasledovalci "
   ]
  },
  {
   "cell_type": "markdown",
   "metadata": {},
   "source": [
    "*Nosilec rumene majice (oz. zmagovalec Toura) je zmagovalec v skupnem seštevku časov vseh etap.*"
   ]
  },
  {
   "cell_type": "markdown",
   "metadata": {},
   "source": [
    "### Najuspešnejša država/ekipa skozi leta po končni razvrstitvi"
   ]
  },
  {
   "cell_type": "markdown",
   "metadata": {},
   "source": [
    "V tem razdelku se seveda pojavi problem iz prve opombe. Nekatere ekipe so namreč\n",
    "prisotne vsa leta, nekatere le eno... Enako je pravzaprav z državami, saj v nasprotju\n",
    "s \"kolesarskimi velesilami\" udeležba ostalih ni tako samoumevna.\n",
    "Poleg tega se pri Touru večkrat govori o ekipah kot o državah, iz katerih prihajajo \n",
    "tekmovalci.\n",
    "Karkorkoli že, za najuspešnejšo štejem tisto ekipo, ki prednjači po vseh kriterijih,\n",
    "torej tudi po tem, koliko let je sodelovala (pod istim imenom in ne glede na zasedbo)."
   ]
  },
  {
   "cell_type": "code",
   "execution_count": null,
   "metadata": {
    "collapsed": true
   },
   "outputs": [],
   "source": []
  },
  {
   "cell_type": "markdown",
   "metadata": {},
   "source": [
    "### Časovni naskoki zmagovalcev"
   ]
  },
  {
   "cell_type": "markdown",
   "metadata": {},
   "source": [
    "### Slovenci vs. Francozi "
   ]
  },
  {
   "cell_type": "markdown",
   "metadata": {},
   "source": [
    "## 2) Statistika etapnih zmag in profili etap"
   ]
  },
  {
   "cell_type": "code",
   "execution_count": 16,
   "metadata": {
    "collapsed": true
   },
   "outputs": [],
   "source": [
    "e2012 = pd.read_csv('Etape\\\\Tour2012.csv')\n",
    "e2013 = pd.read_csv('Etape\\\\Tour2013.csv')\n",
    "e2014 = pd.read_csv('Etape\\\\Tour2014.csv')\n",
    "e2015 = pd.read_csv('Etape\\\\Tour2015.csv')\n",
    "e2016 = pd.read_csv('Etape\\\\Tour2016.csv')"
   ]
  },
  {
   "cell_type": "markdown",
   "metadata": {},
   "source": [
    "### Najuspešnejša država/ekipa po št. etapnih zmag "
   ]
  },
  {
   "cell_type": "markdown",
   "metadata": {},
   "source": [
    "### Uspešnost držav/ekip v različnih vrstah etap"
   ]
  },
  {
   "cell_type": "markdown",
   "metadata": {},
   "source": [
    "## 3) Zelena, bela, pikčasta majica, ekipna uvrstitev-najboljših 10"
   ]
  },
  {
   "cell_type": "markdown",
   "metadata": {},
   "source": [
    "*Končni nosilec zelene majice je zmagovalec po številu zbranih točk na vmesnih sprintih in (odvisno od etape) ciljih etap. Število doseženih točk variira glede na vrsto etape.*\n",
    "\n",
    "*Seštevek za belo majico je podoben tistemu za rumeno, le da so uvrščeni le kolesarji, mlajši od 25 let.*\n",
    "\n",
    "*Pikčasto majico osvoji kolesar, ki zbere največ točk na vmesnih gorskih ciljih. Število podeljenih točk je odvisno od kategorije vzpona.*"
   ]
  },
  {
   "cell_type": "markdown",
   "metadata": {},
   "source": [
    "### Analiza glede na posamezno kategorijo"
   ]
  },
  {
   "cell_type": "code",
   "execution_count": 18,
   "metadata": {
    "collapsed": true
   },
   "outputs": [],
   "source": [
    "z2012 = pd.read_csv('Zelena\\\\Tour2012_2.csv')\n",
    "z2013 = pd.read_csv('Zelena\\\\Tour2013_2.csv')\n",
    "z2014 = pd.read_csv('Zelena\\\\Tour2014_2.csv')\n",
    "z2015 = pd.read_csv('Zelena\\\\Tour2015_2.csv')\n",
    "z2016 = pd.read_csv('Zelena\\\\Tour2016_2.csv')"
   ]
  },
  {
   "cell_type": "code",
   "execution_count": 21,
   "metadata": {
    "collapsed": false
   },
   "outputs": [],
   "source": [
    "p2012 = pd.read_csv('Pikčasta\\\\Tour2012_3.csv')\n",
    "p2013 = pd.read_csv('Pikčasta\\\\Tour2013_3.csv')\n",
    "p2014 = pd.read_csv('Pikčasta\\\\Tour2014_3.csv')\n",
    "p2015 = pd.read_csv('Pikčasta\\\\Tour2015_3.csv')\n",
    "p2016 = pd.read_csv('Pikčasta\\\\Tour2016_3.csv')"
   ]
  },
  {
   "cell_type": "code",
   "execution_count": 22,
   "metadata": {
    "collapsed": true
   },
   "outputs": [],
   "source": [
    "b2012 = pd.read_csv('Bela\\\\Tour2012_4.csv')\n",
    "b2013 = pd.read_csv('Bela\\\\Tour2013_4.csv')\n",
    "b2014 = pd.read_csv('Bela\\\\Tour2014_4.csv')\n",
    "b2015 = pd.read_csv('Bela\\\\Tour2015_4.csv')\n",
    "b2016 = pd.read_csv('Bela\\\\Tour2016_4.csv')"
   ]
  },
  {
   "cell_type": "markdown",
   "metadata": {},
   "source": [
    "### Splošna analiza - največ osvojenih majic skozi leta "
   ]
  }
 ],
 "metadata": {
  "kernelspec": {
   "display_name": "Python 3",
   "language": "python",
   "name": "python3"
  },
  "language_info": {
   "codemirror_mode": {
    "name": "ipython",
    "version": 3
   },
   "file_extension": ".py",
   "mimetype": "text/x-python",
   "name": "python",
   "nbconvert_exporter": "python",
   "pygments_lexer": "ipython3",
   "version": "3.5.1"
  }
 },
 "nbformat": 4,
 "nbformat_minor": 1
}
