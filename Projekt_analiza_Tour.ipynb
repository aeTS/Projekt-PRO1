{
 "cells": [
  {
   "cell_type": "code",
   "execution_count": 15,
   "metadata": {
    "collapsed": false
   },
   "outputs": [
    {
     "name": "stderr",
     "output_type": "stream",
     "text": [
      "c:\\program files (x86)\\python35-32\\lib\\site-packages\\IPython\\core\\interactiveshell.py:2881: FutureWarning: \n",
      "mpl_style had been deprecated and will be removed in a future version.\n",
      "Use `matplotlib.pyplot.style.use` instead.\n",
      "\n",
      "  exec(code_obj, self.user_global_ns, self.user_ns)\n"
     ]
    }
   ],
   "source": [
    "import pandas as pd\n",
    "%matplotlib inline\n",
    "import matplotlib.pyplot as plt\n",
    "pd.set_option('display.mpl_style', 'default')\n",
    "pd.set_option('display.width', 5000) \n",
    "pd.set_option('display.max_columns', 60)\n",
    "plt.rcParams['figure.figsize'] = (15, 5)"
   ]
  },
  {
   "cell_type": "markdown",
   "metadata": {},
   "source": [
    "# Tour de France v zadnjih 5 letih"
   ]
  },
  {
   "cell_type": "code",
   "execution_count": 8,
   "metadata": {
    "collapsed": false
   },
   "outputs": [],
   "source": [
    "r2012 = pd.read_csv('Tour-rumena-majica\\\\2012_0.csv')\n",
    "r2013 = pd.read_csv('Tour-rumena-majica\\\\2013_0.csv')\n",
    "r2014 = pd.read_csv('Tour-rumena-majica\\\\2014_0.csv')\n",
    "r2015 = pd.read_csv('Tour-rumena-majica\\\\2015_0.csv')\n",
    "r2016 = pd.read_csv('Tour-rumena-majica\\\\2016_0.csv')"
   ]
  },
  {
   "cell_type": "markdown",
   "metadata": {},
   "source": [
    "OPOMBE:\n",
    "\n",
    "a) Določene ekipe so se v preteklih 5 letih večkrat preimenovale\n",
    "(npr. \"Saxo Bank–Tinkoff Bank\" ~> \"Saxo-Tinkoff\" ~> \"Tinkoff-Saxo\" ~> \"Tinkoff\")\n",
    "in sočasno spremenile sestavo(ali pa tudi ne). Da bi se izognila \n",
    "zapletom (v kolikšni meri je \"nova\" ekipa lahko smatrana kot \n",
    "ekvivalentna \"stari\"), obravnavam vse ekipe z različnim imenom\n",
    "kot samostojne (tj. v zgornjem primeru imamo 4 različne ekipe)."
   ]
  },
  {
   "cell_type": "markdown",
   "metadata": {},
   "source": [
    "## 1) Končni nosilci rumene majice in zasledovalci "
   ]
  },
  {
   "cell_type": "markdown",
   "metadata": {},
   "source": [
    "*Nosilec rumene majice (oz. zmagovalec Toura) je zmagovalec v skupnem seštevku časov vseh etap.*"
   ]
  },
  {
   "cell_type": "markdown",
   "metadata": {},
   "source": [
    "### Najuspešnejša država/ekipa skozi leta po končni razvrstitvi"
   ]
  },
  {
   "cell_type": "markdown",
   "metadata": {},
   "source": [
    "V tem razdelku se seveda pojavi problem iz prve opombe. Nekatere ekipe so namreč\n",
    "prisotne vsa leta, nekatere le eno... Enako je pravzaprav z državami, saj v nasprotju\n",
    "s \"kolesarskimi velesilami\" udeležba ostalih ni tako samoumevna.\n",
    "Poleg tega se pri Touru večkrat govori o ekipah kot o državah, iz katerih prihajajo \n",
    "tekmovalci.\n",
    "Karkorkoli že, za najuspešnejšo štejem tisto ekipo, ki prednjači po vseh kriterijih,\n",
    "torej tudi po tem, koliko let je sodelovala (pod istim imenom in ne glede na zasedbo)."
   ]
  },
  {
   "cell_type": "code",
   "execution_count": 39,
   "metadata": {
    "collapsed": false
   },
   "outputs": [],
   "source": [
    "naj50 = pd.concat([r2012[:50], r2013[:50], r2014[:50], r2015[:50], r2016[:50]])\n",
    "drzave50 = naj50[['leto', 'mesto', 'ime_tekmovalca', 'država']]\n",
    "ekipe50 = naj50[['leto', 'mesto', 'ime_tekmovalca', 'ekipa']]\n",
    "\n",
    "drzave10 = drzave50[drzave50.mesto <= 10]\n",
    "ekipe10 = ekipe50[ekipe50.mesto <= 10]\n",
    "\n",
    "najdrzave = drzave10[drzave10.mesto == 1]\n",
    "najekipe = drzave10[drzave10.mesto == 1]"
   ]
  },
  {
   "cell_type": "code",
   "execution_count": 41,
   "metadata": {
    "collapsed": false
   },
   "outputs": [],
   "source": [
    "a = pd.DataFrame(ekipe10['ekipa'])"
   ]
  },
  {
   "cell_type": "markdown",
   "metadata": {},
   "source": [
    "### Časovni naskoki zmagovalcev"
   ]
  },
  {
   "cell_type": "code",
   "execution_count": 52,
   "metadata": {
    "collapsed": false
   },
   "outputs": [],
   "source": [
    "S = naj50[['leto', 'mesto', 'ime_tekmovalca', 'čas']]\n",
    "najdva = S[S.mesto <= 2]\n",
    "naskok = S[S.mesto == 2][['leto', 'čas']]"
   ]
  },
  {
   "cell_type": "markdown",
   "metadata": {},
   "source": [
    "### Slovenci vs. Francozi "
   ]
  },
  {
   "cell_type": "markdown",
   "metadata": {},
   "source": [
    "## 2) Statistika etapnih zmag in profili etap"
   ]
  },
  {
   "cell_type": "code",
   "execution_count": 6,
   "metadata": {
    "collapsed": true
   },
   "outputs": [],
   "source": [
    "e2012 = pd.read_csv('Etape\\\\Tour2012.csv')\n",
    "e2013 = pd.read_csv('Etape\\\\Tour2013.csv')\n",
    "e2014 = pd.read_csv('Etape\\\\Tour2014.csv')\n",
    "e2015 = pd.read_csv('Etape\\\\Tour2015.csv')\n",
    "e2016 = pd.read_csv('Etape\\\\Tour2016.csv')"
   ]
  },
  {
   "cell_type": "markdown",
   "metadata": {},
   "source": [
    "### Profili etap - dolžine in frekvenca vrst "
   ]
  },
  {
   "cell_type": "code",
   "execution_count": 58,
   "metadata": {
    "collapsed": false
   },
   "outputs": [],
   "source": [
    "E = pd.concat([e2012, e2013, e2014, e2015, e2016])\n",
    "et = E[['leto', 'št_etape', 'vrsta_etape', 'dolžina_etape', 'ime_tekmovalca']]"
   ]
  },
  {
   "cell_type": "markdown",
   "metadata": {},
   "source": [
    "### Najuspešnejša država/ekipa po št. etapnih zmag "
   ]
  },
  {
   "cell_type": "code",
   "execution_count": 54,
   "metadata": {
    "collapsed": false
   },
   "outputs": [],
   "source": [
    "Edrzave = E[['leto', 'št_etape', 'ime_tekmovalca', 'država']]\n",
    "Eekipe = E[['leto', 'št_etape', 'ime_tekmovalca', 'ekipa']]"
   ]
  },
  {
   "cell_type": "markdown",
   "metadata": {},
   "source": [
    "### Uspešnost držav/ekip v različnih vrstah etap"
   ]
  },
  {
   "cell_type": "code",
   "execution_count": 55,
   "metadata": {
    "collapsed": true
   },
   "outputs": [],
   "source": [
    "edrzave = E[['leto', 'št_etape', 'vrsta_etape', 'ime_tekmovalca', 'država']]\n",
    "eekipe = E[['leto', 'št_etape', 'vrsta_etape', 'ime_tekmovalca', 'ekipa']]"
   ]
  },
  {
   "cell_type": "markdown",
   "metadata": {},
   "source": [
    "## 3) Zelena, bela, pikčasta majica, ekipna uvrstitev-najboljših 10"
   ]
  },
  {
   "cell_type": "markdown",
   "metadata": {},
   "source": [
    "*Končni nosilec zelene majice je zmagovalec po številu zbranih točk na vmesnih sprintih in (odvisno od etape) ciljih etap. Število doseženih točk variira glede na vrsto etape.*\n",
    "\n",
    "*Seštevek za belo majico je podoben tistemu za rumeno, le da so uvrščeni le kolesarji, mlajši od 25 let.*\n",
    "\n",
    "*Pikčasto majico osvoji kolesar, ki zbere največ točk na vmesnih gorskih ciljih. Število podeljenih točk je odvisno od kategorije vzpona.*"
   ]
  },
  {
   "cell_type": "markdown",
   "metadata": {},
   "source": [
    "### Analiza glede na posamezno kategorijo"
   ]
  },
  {
   "cell_type": "code",
   "execution_count": 74,
   "metadata": {
    "collapsed": false
   },
   "outputs": [],
   "source": [
    "z2012 = pd.read_csv('Zelena\\\\Tour2012_2.csv')\n",
    "z2013 = pd.read_csv('Zelena\\\\Tour2013_2.csv')\n",
    "z2014 = pd.read_csv('Zelena\\\\Tour2014_2.csv')\n",
    "z2015 = pd.read_csv('Zelena\\\\Tour2015_2.csv')\n",
    "z2016 = pd.read_csv('Zelena\\\\Tour2016_2.csv')\n",
    "\n",
    "Z = pd.concat([z2012, z2013, z2014, z2015, z2016])"
   ]
  },
  {
   "cell_type": "code",
   "execution_count": 60,
   "metadata": {
    "collapsed": false
   },
   "outputs": [],
   "source": [
    "p2012 = pd.read_csv('Pikčasta\\\\Tour2012_3.csv')\n",
    "p2013 = pd.read_csv('Pikčasta\\\\Tour2013_3.csv')\n",
    "p2014 = pd.read_csv('Pikčasta\\\\Tour2014_3.csv')\n",
    "p2015 = pd.read_csv('Pikčasta\\\\Tour2015_3.csv')\n",
    "p2016 = pd.read_csv('Pikčasta\\\\Tour2016_3.csv')\n",
    "\n",
    "P = pd.concat([p2012, p2013, p2014, p2015, p2016])"
   ]
  },
  {
   "cell_type": "code",
   "execution_count": 61,
   "metadata": {
    "collapsed": true
   },
   "outputs": [],
   "source": [
    "b2012 = pd.read_csv('Bela\\\\Tour2012_4.csv')\n",
    "b2013 = pd.read_csv('Bela\\\\Tour2013_4.csv')\n",
    "b2014 = pd.read_csv('Bela\\\\Tour2014_4.csv')\n",
    "b2015 = pd.read_csv('Bela\\\\Tour2015_4.csv')\n",
    "b2016 = pd.read_csv('Bela\\\\Tour2016_4.csv')\n",
    "\n",
    "B = pd.concat([b2012, b2013, b2014, b2015, b2016])"
   ]
  },
  {
   "cell_type": "markdown",
   "metadata": {},
   "source": [
    "### Splošna analiza - največ osvojenih majic skozi leta "
   ]
  },
  {
   "cell_type": "code",
   "execution_count": 72,
   "metadata": {
    "collapsed": false
   },
   "outputs": [],
   "source": [
    "majice = pd.concat([Z[Z.mesto == 1], P[P.mesto == 1], B[B.mesto == 1]])[['leto', 'ime_tekmovalca', 'država', 'ekipa', 'vrsta_majice']]\n",
    "majiced = pd.concat([majice[['leto', 'ime_tekmovalca', 'država', 'vrsta_majice']], \n",
    "                     najdrzave[['leto', 'ime_tekmovalca', 'država']]])\n",
    "majicee = pd.concat([majice[['leto', 'ime_tekmovalca', 'ekipa', 'vrsta_majice']], \n",
    "                     najekipe[['leto', 'ime_tekmovalca', 'država']]])"
   ]
  }
 ],
 "metadata": {
  "kernelspec": {
   "display_name": "Python 3",
   "language": "python",
   "name": "python3"
  },
  "language_info": {
   "codemirror_mode": {
    "name": "ipython",
    "version": 3
   },
   "file_extension": ".py",
   "mimetype": "text/x-python",
   "name": "python",
   "nbconvert_exporter": "python",
   "pygments_lexer": "ipython3",
   "version": "3.5.1"
  }
 },
 "nbformat": 4,
 "nbformat_minor": 1
}
