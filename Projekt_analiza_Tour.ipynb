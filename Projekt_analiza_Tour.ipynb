{
 "cells": [
  {
   "cell_type": "code",
   "execution_count": 2,
   "metadata": {
    "collapsed": true
   },
   "outputs": [],
   "source": [
    "import pandas as pd"
   ]
  },
  {
   "cell_type": "markdown",
   "metadata": {},
   "source": [
    "# Tour de France v zadnjih 5 letih"
   ]
  },
  {
   "cell_type": "code",
   "execution_count": 3,
   "metadata": {
    "collapsed": false
   },
   "outputs": [],
   "source": [
    "r2012 = pd.read_csv('C:\\\\Users\\\\Tea\\\\PycharmProjects\\\\PRO1\\\\Tour\\\\2012_0.csv')\n",
    "r2013 = pd.read_csv('C:\\\\Users\\\\Tea\\\\PycharmProjects\\\\PRO1\\\\Tour\\\\2013_0.csv')\n",
    "r2014 = pd.read_csv('C:\\\\Users\\\\Tea\\\\PycharmProjects\\\\PRO1\\\\Tour\\\\2014_0.csv')\n",
    "r2015 = pd.read_csv('C:\\\\Users\\\\Tea\\\\PycharmProjects\\\\PRO1\\\\Tour\\\\2015_0.csv')\n",
    "r2016 = pd.read_csv('C:\\\\Users\\\\Tea\\\\PycharmProjects\\\\PRO1\\\\Tour\\\\2016_0.csv')"
   ]
  },
  {
   "cell_type": "markdown",
   "metadata": {},
   "source": [
    "OPOMBE:\n",
    "\n",
    "a) Določene ekipe so se v preteklih 5 letih večkrat preimenovale\n",
    "(npr. \"Saxo Bank–Tinkoff Bank\" ~> \"Saxo-Tinkoff\" ~> \"Tinkoff-Saxo\" ~> \"Tinkoff\")\n",
    "in sočasno spremenile sestavo(ali pa tudi ne). Da bi se izognila \n",
    "zapletom (v kolikšni meri je \"nova\" ekipa lahko smatrana kot \n",
    "ekvivalentna \"stari\"), obravnavam vse ekipe z različnim imenom\n",
    "kot samostojne (tj. v zgornjem primeru imamo 4 različne ekipe)."
   ]
  },
  {
   "cell_type": "markdown",
   "metadata": {},
   "source": [
    "## 1) Končni nosilci rumene majice in zasledovalci "
   ]
  },
  {
   "cell_type": "markdown",
   "metadata": {},
   "source": [
    "*Nosilec rumene majice (oz. zmagovalec Toura) je zmagovalec v skupnem seštevku časov vseh etap.*"
   ]
  },
  {
   "cell_type": "markdown",
   "metadata": {},
   "source": [
    "### Najuspešnejša država/ekipa skozi leta po končni razvrstitvi"
   ]
  },
  {
   "cell_type": "markdown",
   "metadata": {},
   "source": [
    "V tem razdelku se seveda pojavi problem iz prve opombe. Nekatere ekipe so namreč\n",
    "prisotne vsa leta, nekatere le eno... Enako je pravzaprav z državami, saj v nasprotju\n",
    "s \"kolesarskimi velesilami\" udeležba ostalih ni tako samoumevna.\n",
    "Poleg tega se pri Touru večkrat govori o ekipah kot o državah, iz katerih prihajajo \n",
    "tekmovalci.\n",
    "Karkorkoli že, za najuspešnejšo štejem tisto ekipo, ki prednjači po vseh kriterijih,\n",
    "torej tudi po tem, koliko let je sodelovala (pod istim imenom in ne glede na zasedbo)."
   ]
  },
  {
   "cell_type": "code",
   "execution_count": null,
   "metadata": {
    "collapsed": true
   },
   "outputs": [],
   "source": []
  },
  {
   "cell_type": "markdown",
   "metadata": {},
   "source": [
    "### Časovni naskoki zmagovalcev"
   ]
  },
  {
   "cell_type": "markdown",
   "metadata": {},
   "source": [
    "### Slovenci vs. Francozi "
   ]
  },
  {
   "cell_type": "markdown",
   "metadata": {},
   "source": [
    "## 2) Statistika etapnih zmag in profili etap"
   ]
  },
  {
   "cell_type": "code",
   "execution_count": 4,
   "metadata": {
    "collapsed": true
   },
   "outputs": [],
   "source": [
    "e2012 = pd.read_csv('C:\\\\Users\\\\Tea\\\\PycharmProjects\\\\PRO1\\\\2012\\\\Tour2012.csv')\n",
    "e2013 = pd.read_csv('C:\\\\Users\\\\Tea\\\\PycharmProjects\\\\PRO1\\\\2013\\\\Tour2013.csv')\n",
    "e2014 = pd.read_csv('C:\\\\Users\\\\Tea\\\\PycharmProjects\\\\PRO1\\\\2014\\\\Tour2014.csv')\n",
    "e2015 = pd.read_csv('C:\\\\Users\\\\Tea\\\\PycharmProjects\\\\PRO1\\\\2015\\\\Tour2015.csv')\n",
    "e2016 = pd.read_csv('C:\\\\Users\\\\Tea\\\\PycharmProjects\\\\PRO1\\\\2016\\\\Tour2016.csv')"
   ]
  },
  {
   "cell_type": "markdown",
   "metadata": {},
   "source": [
    "### Najuspešnejša država/ekipa po št. etapnih zmag "
   ]
  },
  {
   "cell_type": "markdown",
   "metadata": {},
   "source": [
    "### Uspešnost držav/ekip v različnih vrstah etap"
   ]
  },
  {
   "cell_type": "markdown",
   "metadata": {},
   "source": [
    "## 3) Zelena, bela, pikčasta majica, ekipna uvrstitev-najboljših 10"
   ]
  },
  {
   "cell_type": "markdown",
   "metadata": {},
   "source": [
    "*Končni nosilec zelene majice je zmagovalec po številu zbranih točk na vmesnih sprintih in (odvisno od etape) ciljih etap. Število doseženih točk variira glede na vrsto etape.*\n",
    "\n",
    "*Seštevek za belo majico je podoben tistemu za rumeno, le da so uvrščeni le kolesarji, mlajši od 25 let.*\n",
    "\n",
    "*Pikčasto majico osvoji kolesar, ki zbere največ točk na vmesnih gorskih ciljih. Število podeljenih točk je odvisno od kategorije vzpona.*"
   ]
  },
  {
   "cell_type": "markdown",
   "metadata": {},
   "source": [
    "### Analiza glede na posamezno kategorijo"
   ]
  },
  {
   "cell_type": "markdown",
   "metadata": {},
   "source": [
    "### Splošna analiza - največ osvojenih majic skozi leta "
   ]
  }
 ],
 "metadata": {
  "kernelspec": {
   "display_name": "Python 3",
   "language": "python",
   "name": "python3"
  },
  "language_info": {
   "codemirror_mode": {
    "name": "ipython",
    "version": 3
   },
   "file_extension": ".py",
   "mimetype": "text/x-python",
   "name": "python",
   "nbconvert_exporter": "python",
   "pygments_lexer": "ipython3",
   "version": "3.5.1"
  }
 },
 "nbformat": 4,
 "nbformat_minor": 1
}
